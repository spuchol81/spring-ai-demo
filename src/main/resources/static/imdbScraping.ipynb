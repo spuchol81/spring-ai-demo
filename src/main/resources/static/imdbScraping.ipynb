{
 "cells": [
  {
   "cell_type": "code",
   "execution_count": 64,
   "id": "e83a97df-4a6d-43ed-a513-b789728e7766",
   "metadata": {},
   "outputs": [],
   "source": [
    "import requests\n",
    "import json\n",
    "import os\n",
    "from urllib.parse import unquote, urlparse\n",
    "from pathlib import PurePosixPath\n",
    "API_KEY='30fd7b45'\n",
    "moviesInfo = []\n",
    "# Opening JSON file\n",
    "with open(\"movies-urls.json\") as f:\n",
    "    data =  json.load(f);\n",
    "    \n",
    "    for i in data:\n",
    "        imdbID = (PurePosixPath(unquote(urlparse(i['url']).path)).parts[2])\n",
    "        movieInfo = requests.get('http://www.omdbapi.com/?apikey='+API_KEY+'&i='+imdbID+'&plot=full').json()\n",
    "        moviesInfo.append(movieInfo)\n",
    "\n",
    "with open('imdb.json', 'w') as file:\n",
    "    json.dump(moviesInfo, file, indent=4)"
   ]
  }
 ],
 "metadata": {
  "kernelspec": {
   "display_name": "Python 3 (ipykernel)",
   "language": "python",
   "name": "python3"
  },
  "language_info": {
   "codemirror_mode": {
    "name": "ipython",
    "version": 3
   },
   "file_extension": ".py",
   "mimetype": "text/x-python",
   "name": "python",
   "nbconvert_exporter": "python",
   "pygments_lexer": "ipython3",
   "version": "3.11.6"
  }
 },
 "nbformat": 4,
 "nbformat_minor": 5
}
